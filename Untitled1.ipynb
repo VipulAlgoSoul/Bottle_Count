{
 "cells": [
  {
   "cell_type": "code",
   "execution_count": null,
   "metadata": {},
   "outputs": [],
   "source": [
    "import cv2\n",
    "\n",
    "low_yellow=(20,100,100)\n",
    "high_yellow=(30,255,255)"
   ]
  },
  {
   "cell_type": "code",
   "execution_count": null,
   "metadata": {},
   "outputs": [],
   "source": [
    "emp=[]\n",
    "\n",
    "cap=cv2.VideoCapture(\"bottlecounts.mp4\")\n",
    "while(cap.isOpened()):\n",
    "    ret, col_im=cap.read()\n",
    "    \n",
    "    cv2.rectangle(col_im,(195,320),(250,365),(0,255,0),3)\n",
    "    roi_im=col_im[320:365,195:250]\n",
    "    roi_hsv_im=cv2.cvtColor(roi_im,cv2.COLOR_BGR2HSV)\n",
    "    hsv_cut=cv2.inRange(roi_hsv_im,low_yellow,high_yellow)\n",
    "    \n",
    "    emp.append(cv2.countNonZero(hsv_cut))\n",
    "    \n",
    "    cv2.imshow(\"original\",col_im)\n",
    "    cv2.imshow(\"cu_part\",roi_im)\n",
    "    cv2.imshow(\"hsv_roi\",hsv_cut)\n",
    "    if cv2.waitKey(100) & 0xFF==ord('q'):\n",
    "        break\n",
    "        \n",
    "cap.release()\n",
    "cv2.destroyAllWindows()"
   ]
  },
  {
   "cell_type": "code",
   "execution_count": null,
   "metadata": {},
   "outputs": [],
   "source": [
    "from matplotlib import pyplot as plt\n",
    "plt.plot(emp)\n",
    "plt.show()"
   ]
  },
  {
   "cell_type": "code",
   "execution_count": null,
   "metadata": {},
   "outputs": [],
   "source": []
  }
 ],
 "metadata": {
  "kernelspec": {
   "display_name": "Python 3 (ipykernel)",
   "language": "python",
   "name": "python3"
  },
  "language_info": {
   "codemirror_mode": {
    "name": "ipython",
    "version": 3
   },
   "file_extension": ".py",
   "mimetype": "text/x-python",
   "name": "python",
   "nbconvert_exporter": "python",
   "pygments_lexer": "ipython3",
   "version": "3.10.4"
  }
 },
 "nbformat": 4,
 "nbformat_minor": 4
}
